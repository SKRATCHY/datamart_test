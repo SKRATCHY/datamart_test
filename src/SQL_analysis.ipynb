{
 "cells": [
  {
   "cell_type": "code",
   "execution_count": 1,
   "metadata": {},
   "outputs": [],
   "source": [
    "import sqlite3"
   ]
  },
  {
   "cell_type": "code",
   "execution_count": 2,
   "metadata": {},
   "outputs": [],
   "source": [
    "con = sqlite3.connect(\"datamart_test.db\")"
   ]
  },
  {
   "cell_type": "code",
   "execution_count": 3,
   "metadata": {},
   "outputs": [],
   "source": [
    "cur = con.cursor()"
   ]
  },
  {
   "cell_type": "code",
   "execution_count": 7,
   "metadata": {},
   "outputs": [
    {
     "data": {
      "text/plain": [
       "<sqlite3.Cursor at 0x103e4b040>"
      ]
     },
     "execution_count": 7,
     "metadata": {},
     "output_type": "execute_result"
    }
   ],
   "source": [
    "cur.execute(\"drop table if exists customers\")\n",
    "cur.execute(\"drop table if exists orders\")\n",
    "cur.execute(\"drop table if exists order_details\")"
   ]
  },
  {
   "cell_type": "code",
   "execution_count": 8,
   "metadata": {},
   "outputs": [
    {
     "data": {
      "text/plain": [
       "<sqlite3.Cursor at 0x103e4b040>"
      ]
     },
     "execution_count": 8,
     "metadata": {},
     "output_type": "execute_result"
    }
   ],
   "source": [
    "cur.execute('''CREATE TABLE customers(\n",
    "            customer_id INTEGER PRIMARY KEY AUTOINCREMENT,\n",
    "            name TEXT,\n",
    "            email TEXT,\n",
    "            region TEXT \n",
    "            )''')"
   ]
  },
  {
   "cell_type": "code",
   "execution_count": 9,
   "metadata": {},
   "outputs": [
    {
     "data": {
      "text/plain": [
       "<sqlite3.Cursor at 0x103e4b040>"
      ]
     },
     "execution_count": 9,
     "metadata": {},
     "output_type": "execute_result"
    }
   ],
   "source": [
    "cur.execute('''CREATE TABLE orders(\n",
    "                order_id INTEGER PRIMARY KEY AUTOINCREMENT,\n",
    "                customer_id INTEGER,\n",
    "                order_date TEXT,            \n",
    "                shipping_priority TEXT,\n",
    "                FOREIGN KEY (customer_id) REFERENCES customers(customer_id)\n",
    "            )\n",
    "        ''')"
   ]
  },
  {
   "cell_type": "code",
   "execution_count": 10,
   "metadata": {},
   "outputs": [
    {
     "data": {
      "text/plain": [
       "<sqlite3.Cursor at 0x103e4b040>"
      ]
     },
     "execution_count": 10,
     "metadata": {},
     "output_type": "execute_result"
    }
   ],
   "source": [
    "cur.execute('''create table order_details(\n",
    "            order_detail_id INTEGER PRIMARY KEY AUTOINCREMENT,\n",
    "            order_id INTEGER,\n",
    "            product_id INTEGER,\n",
    "            quantity INTEGER,\n",
    "            price FLOAT,\n",
    "            discount FLOAT,\n",
    "            FOREIGN KEY (order_id) references orders(order_id)\n",
    "            )''')"
   ]
  },
  {
   "cell_type": "code",
   "execution_count": 11,
   "metadata": {},
   "outputs": [
    {
     "data": {
      "text/plain": [
       "<sqlite3.Cursor at 0x103e4b040>"
      ]
     },
     "execution_count": 11,
     "metadata": {},
     "output_type": "execute_result"
    }
   ],
   "source": [
    "#Se agregan valores a la tabla customers\n",
    "cur.execute('''\n",
    "        insert into customers (\"name\",\"email\",\"region\") values (\"John Doe\", \"John@gmail.com\", \"North\")\n",
    "''')\n",
    "cur.execute('''\n",
    "        insert into customers (\"name\",\"email\",\"region\") values (\"Juan Perez\", \"JuanPerez@hotmail.com\", \"East\")\n",
    "''')\n",
    "cur.execute('''\n",
    "        insert into customers (\"name\",\"email\",\"region\") values (\"Jonathan Múnera\", \"JD@gmail.com\", \"West\")\n",
    "''')\n"
   ]
  },
  {
   "cell_type": "code",
   "execution_count": 12,
   "metadata": {},
   "outputs": [
    {
     "data": {
      "text/plain": [
       "<sqlite3.Cursor at 0x103e4b040>"
      ]
     },
     "execution_count": 12,
     "metadata": {},
     "output_type": "execute_result"
    }
   ],
   "source": [
    "#Se agregan valores a la tabla orders\n",
    "cur.execute('''\n",
    "        insert into orders (\"customer_id\",\"order_date\",\"shipping_priority\") values (\"3\", \"2023-03-31\", \"High\")\n",
    "''')\n",
    "cur.execute('''\n",
    "        insert into orders (\"customer_id\",\"order_date\",\"shipping_priority\") values (\"1\", \"2023-12-12\", \"Low\")\n",
    "''')\n",
    "cur.execute('''\n",
    "        insert into orders (\"customer_id\",\"order_date\",\"shipping_priority\") values (\"3\", \"2024-03-31\", \"High\")\n",
    "''')"
   ]
  },
  {
   "cell_type": "code",
   "execution_count": 13,
   "metadata": {},
   "outputs": [
    {
     "data": {
      "text/plain": [
       "<sqlite3.Cursor at 0x103e4b040>"
      ]
     },
     "execution_count": 13,
     "metadata": {},
     "output_type": "execute_result"
    }
   ],
   "source": [
    "cur.execute('''\n",
    "        insert into order_details (\"order_id\", \"product_id\", \"quantity\", \"price\", \"discount\") values (\"1\", \"15\", \"2\", \"70000\", \".3\")\n",
    "''')\n",
    "cur.execute('''\n",
    "        insert into order_details (\"order_id\",\"product_id\",\"quantity\",\"price\",\"discount\") values (\"2\", \"45\", \"20\", \"20000\", \"0\")\n",
    "''')\n",
    "cur.execute('''\n",
    "        insert into order_details (\"order_id\",\"product_id\",\"quantity\",\"price\",\"discount\") values (\"3\", \"15\", \"3\", \"120000\", \".2\")\n",
    "''')"
   ]
  },
  {
   "cell_type": "code",
   "execution_count": 14,
   "metadata": {},
   "outputs": [
    {
     "data": {
      "text/plain": [
       "[(1, 20000.0), (2, None), (3, 190000.0)]"
      ]
     },
     "execution_count": 14,
     "metadata": {},
     "output_type": "execute_result"
    }
   ],
   "source": [
    "#Ingreso total por cliente\n",
    "cur.execute('''Select customers.customer_id, sum(price)\n",
    "            from order_details\n",
    "            inner join orders\n",
    "            on orders.order_id = order_details.order_id\n",
    "            right join customers\n",
    "            on customers.customer_id = orders.customer_id\n",
    "            group by customers.customer_id\n",
    "''').fetchall()"
   ]
  },
  {
   "cell_type": "code",
   "execution_count": 15,
   "metadata": {},
   "outputs": [
    {
     "data": {
      "text/plain": [
       "[('East', None, None), ('North', 45, 400000.0), ('West', 15, 140000.0)]"
      ]
     },
     "execution_count": 15,
     "metadata": {},
     "output_type": "execute_result"
    }
   ],
   "source": [
    "#Producto más vendido por región\n",
    "cur.execute('''Select customers.region, product_id, price*quantity\n",
    "            from order_details\n",
    "            inner join orders\n",
    "            on orders.order_id = order_details.order_id\n",
    "            right join customers\n",
    "            on customers.customer_id = orders.customer_id\n",
    "            group by customers.region, product_id\n",
    "''').fetchall()"
   ]
  },
  {
   "cell_type": "code",
   "execution_count": 16,
   "metadata": {},
   "outputs": [
    {
     "data": {
      "text/plain": [
       "[(1, 'North', '202312', 20000.0),\n",
       " (3, 'West', '202303', 70000.0),\n",
       " (3, 'West', '202403', 120000.0)]"
      ]
     },
     "execution_count": 16,
     "metadata": {},
     "output_type": "execute_result"
    }
   ],
   "source": [
    "#Ingreso promedio por cliente y region al mes\n",
    "cur.execute('''\n",
    "            Select customers.customer_id,\n",
    "                    customers.region,\n",
    "                    substring(replace(date(order_date),\"-\",\"\"), 1, 6) as mes,\n",
    "                    sum(order_details.price)\n",
    "            from customers \n",
    "            left join orders\n",
    "            on orders.customer_id = customers.customer_id\n",
    "            inner join order_details\n",
    "            on orders.order_id = order_details.order_id\n",
    "            group by customers.customer_id, region, mes\n",
    "''').fetchall()"
   ]
  },
  {
   "cell_type": "code",
   "execution_count": 17,
   "metadata": {},
   "outputs": [
    {
     "data": {
      "text/plain": [
       "[(3, 1)]"
      ]
     },
     "execution_count": 17,
     "metadata": {},
     "output_type": "execute_result"
    }
   ],
   "source": [
    "#Top 5 clientes en el último año\n",
    "cur.execute('''\n",
    "    Select  customers.customer_id,\n",
    "            count(order_id) as num_orders\n",
    "            from customers\n",
    "            inner join orders\n",
    "            on customers.customer_id = orders.customer_id            \n",
    "            where substring(order_date,1,4) = cast(substring(date(\"now\"),1,4)-1 as string)\n",
    "            group by customers.customer_id\n",
    "            order by num_orders desc\n",
    "            limit 5\n",
    "''').fetchall()"
   ]
  }
 ],
 "metadata": {
  "kernelspec": {
   "display_name": "venv",
   "language": "python",
   "name": "python3"
  },
  "language_info": {
   "codemirror_mode": {
    "name": "ipython",
    "version": 3
   },
   "file_extension": ".py",
   "mimetype": "text/x-python",
   "name": "python",
   "nbconvert_exporter": "python",
   "pygments_lexer": "ipython3",
   "version": "3.12.8"
  }
 },
 "nbformat": 4,
 "nbformat_minor": 2
}
